{
 "cells": [
  {
   "cell_type": "markdown",
   "metadata": {},
   "source": [
    "# Udacity Data Scientist Capstone project\n",
    "\n",
    "## Project Title: Sparkify\n",
    "\n",
    "### Project Overview\n",
    "\n",
    "Sparkify is a music streaming service just as Spotify and Pandora.\n",
    "\n",
    "The data provided is the user log of the service, having demographic info, user activities, timestamps and etc. We try to analyze the log and build a model to identify customers who are highly likely to quit using our service, and thus, send marketing offers to them to prevent them from churning.\n"
   ]
  },
  {
   "cell_type": "markdown",
   "metadata": {},
   "source": [
    "# Problem Statement\n",
    "\n",
    "Create an ML model that predict sparkify customer churn. A customer churns if he/she downgrades to the free tier or cancel his/her subscription altogether.By generating new features that are good predictors of customer churn, we can build a machine learning model to predict which of sparkify current users are likely to churn.\n"
   ]
  },
  {
   "cell_type": "markdown",
   "metadata": {},
   "source": [
    "# Metrics to evaluate performance\n",
    "\n",
    "We have used F1 score to evaluate model performance as the dataset provided is highly imbalanced, i.e. the number of churned users is very small compared to number of active users."
   ]
  },
  {
   "cell_type": "code",
   "execution_count": 56,
   "metadata": {},
   "outputs": [],
   "source": [
    "# import libraries\n",
    "from pyspark.sql import SparkSession\n",
    "import pyspark.sql.functions as psqf\n",
    "import pyspark.sql.types as psqt\n",
    "from pyspark.ml.feature import VectorAssembler, StandardScaler\\\n",
    "\n",
    "from pyspark.ml.classification import LogisticRegression, GBTClassifier,LinearSVC, RandomForestClassifier\n",
    "from pyspark.mllib.util import MLUtils\n",
    "\n",
    "from pyspark.mllib.evaluation import BinaryClassificationMetrics\n",
    "from pyspark.ml.evaluation import MulticlassClassificationEvaluator\n",
    "from pyspark.ml.tuning import CrossValidator, ParamGridBuilder\n",
    "from pyspark.ml import Pipeline\n",
    "from pyspark.ml.feature import IndexToString, StringIndexer, VectorIndexer\n",
    "\n",
    "import datetime\n",
    "import numpy as np\n",
    "import pandas as pd\n",
    "\n",
    "import matplotlib.pyplot as plt\n",
    "from time import time\n",
    "%matplotlib inline\n"
   ]
  },
  {
   "cell_type": "code",
   "execution_count": 4,
   "metadata": {},
   "outputs": [],
   "source": [
    "# create a Spark session\n",
    "spark = SparkSession.builder.appName(\"Sparkify\").getOrCreate()"
   ]
  },
  {
   "cell_type": "markdown",
   "metadata": {},
   "source": [
    "# Data Exploration\n",
    "\n",
    "In this workspace, the mini-dataset file is `mini_sparkify_event_data.json`. Load and clean the dataset, checking for invalid or missing data - for example, records without userids or sessionids. "
   ]
  },
  {
   "cell_type": "code",
   "execution_count": 5,
   "metadata": {},
   "outputs": [],
   "source": [
    "#Load the  small subset of data\n",
    "\n",
    "path = \"mini_sparkify_event_data.json\"\n",
    "df = spark.read.json(path)"
   ]
  },
  {
   "cell_type": "code",
   "execution_count": 6,
   "metadata": {},
   "outputs": [
    {
     "name": "stdout",
     "output_type": "stream",
     "text": [
      "+--------------+---------+---------+------+-------------+--------+---------+-----+---------------+------+--------+-------------+---------+---------+------+-------------+--------------------+------+\n",
      "|        artist|     auth|firstName|gender|itemInSession|lastName|   length|level|       location|method|    page| registration|sessionId|     song|status|           ts|           userAgent|userId|\n",
      "+--------------+---------+---------+------+-------------+--------+---------+-----+---------------+------+--------+-------------+---------+---------+------+-------------+--------------------+------+\n",
      "|Martha Tilston|Logged In|    Colin|     M|           50| Freeman|277.89016| paid|Bakersfield, CA|   PUT|NextSong|1538173362000|       29|Rockpools|   200|1538352117000|Mozilla/5.0 (Wind...|    30|\n",
      "+--------------+---------+---------+------+-------------+--------+---------+-----+---------------+------+--------+-------------+---------+---------+------+-------------+--------------------+------+\n",
      "only showing top 1 row\n",
      "\n"
     ]
    }
   ],
   "source": [
    "df.show(1)"
   ]
  },
  {
   "cell_type": "code",
   "execution_count": 7,
   "metadata": {},
   "outputs": [
    {
     "name": "stdout",
     "output_type": "stream",
     "text": [
      "root\n",
      " |-- artist: string (nullable = true)\n",
      " |-- auth: string (nullable = true)\n",
      " |-- firstName: string (nullable = true)\n",
      " |-- gender: string (nullable = true)\n",
      " |-- itemInSession: long (nullable = true)\n",
      " |-- lastName: string (nullable = true)\n",
      " |-- length: double (nullable = true)\n",
      " |-- level: string (nullable = true)\n",
      " |-- location: string (nullable = true)\n",
      " |-- method: string (nullable = true)\n",
      " |-- page: string (nullable = true)\n",
      " |-- registration: long (nullable = true)\n",
      " |-- sessionId: long (nullable = true)\n",
      " |-- song: string (nullable = true)\n",
      " |-- status: long (nullable = true)\n",
      " |-- ts: long (nullable = true)\n",
      " |-- userAgent: string (nullable = true)\n",
      " |-- userId: string (nullable = true)\n",
      "\n"
     ]
    }
   ],
   "source": [
    "#Print schema of the dataset\n",
    "\n",
    "df.printSchema()\n"
   ]
  },
  {
   "cell_type": "code",
   "execution_count": 9,
   "metadata": {},
   "outputs": [
    {
     "name": "stdout",
     "output_type": "stream",
     "text": [
      "+------+----+---------+------+-------------+--------+------+-----+--------+------+----+------------+---------+-----+------+---+---------+------+\n",
      "|artist|auth|firstName|gender|itemInSession|lastName|length|level|location|method|page|registration|sessionId| song|status| ts|userAgent|userId|\n",
      "+------+----+---------+------+-------------+--------+------+-----+--------+------+----+------------+---------+-----+------+---+---------+------+\n",
      "| 58392|   0|     8346|  8346|            0|    8346| 58392|    0|    8346|     0|   0|        8346|        0|58392|     0|  0|     8346|     0|\n",
      "+------+----+---------+------+-------------+--------+------+-----+--------+------+----+------------+---------+-----+------+---+---------+------+\n",
      "\n"
     ]
    }
   ],
   "source": [
    "#Get/count null values for each column\n",
    "\n",
    "df_nulls = df.select([psqf.count(psqf.when(psqf.isnull(c), c)).alias(c) for c in df.columns])\n",
    "df_nulls.show()"
   ]
  },
  {
   "cell_type": "code",
   "execution_count": 10,
   "metadata": {},
   "outputs": [
    {
     "name": "stdout",
     "output_type": "stream",
     "text": [
      "+------+----+\n",
      "|userId|page|\n",
      "+------+----+\n",
      "|     0|   0|\n",
      "+------+----+\n",
      "\n"
     ]
    }
   ],
   "source": [
    "# Check whether the page and userid columns has zero null values\n",
    "\n",
    "df_nulls.select('userId', 'page').show()\n"
   ]
  },
  {
   "cell_type": "code",
   "execution_count": 11,
   "metadata": {},
   "outputs": [
    {
     "name": "stdout",
     "output_type": "stream",
     "text": [
      "+-----+-----------+\n",
      "|level|level_count|\n",
      "+-----+-----------+\n",
      "| free|      58338|\n",
      "| paid|     228162|\n",
      "+-----+-----------+\n",
      "\n"
     ]
    }
   ],
   "source": [
    "# Count number of customers are in free and paid groups \n",
    "\n",
    "level_counts= df.groupby('level').agg({'level':'count'}).withColumnRenamed(\"count(level)\", \"level_count\")\n",
    "level_counts.show()"
   ]
  },
  {
   "cell_type": "code",
   "execution_count": 11,
   "metadata": {},
   "outputs": [
    {
     "name": "stdout",
     "output_type": "stream",
     "text": [
      "+--------------------+\n",
      "|                page|\n",
      "+--------------------+\n",
      "|              Cancel|\n",
      "|    Submit Downgrade|\n",
      "|         Thumbs Down|\n",
      "|                Home|\n",
      "|           Downgrade|\n",
      "|         Roll Advert|\n",
      "|              Logout|\n",
      "|       Save Settings|\n",
      "|Cancellation Conf...|\n",
      "|               About|\n",
      "| Submit Registration|\n",
      "|            Settings|\n",
      "|               Login|\n",
      "|            Register|\n",
      "|     Add to Playlist|\n",
      "|          Add Friend|\n",
      "|            NextSong|\n",
      "|           Thumbs Up|\n",
      "|                Help|\n",
      "|             Upgrade|\n",
      "+--------------------+\n",
      "only showing top 20 rows\n",
      "\n"
     ]
    }
   ],
   "source": [
    "# Get the unique actions performed by customers using page column.\n",
    "\n",
    "df.select('page').distinct().show()"
   ]
  },
  {
   "cell_type": "code",
   "execution_count": 12,
   "metadata": {},
   "outputs": [
    {
     "name": "stdout",
     "output_type": "stream",
     "text": [
      "+--------------------+----------+\n",
      "|                page|page_count|\n",
      "+--------------------+----------+\n",
      "|              Cancel|        52|\n",
      "|    Submit Downgrade|        63|\n",
      "|         Thumbs Down|      2546|\n",
      "|                Home|     14457|\n",
      "|           Downgrade|      2055|\n",
      "|         Roll Advert|      3933|\n",
      "|              Logout|      3226|\n",
      "|       Save Settings|       310|\n",
      "|Cancellation Conf...|        52|\n",
      "|               About|       924|\n",
      "| Submit Registration|         5|\n",
      "|            Settings|      1514|\n",
      "|               Login|      3241|\n",
      "|            Register|        18|\n",
      "|     Add to Playlist|      6526|\n",
      "|          Add Friend|      4277|\n",
      "|            NextSong|    228108|\n",
      "|           Thumbs Up|     12551|\n",
      "|                Help|      1726|\n",
      "|             Upgrade|       499|\n",
      "+--------------------+----------+\n",
      "only showing top 20 rows\n",
      "\n"
     ]
    }
   ],
   "source": [
    "# Get the number of ouccrance of all the events from page column.\n",
    "\n",
    "event_counts= df.groupby('page').agg({'page':'count'}).withColumnRenamed(\"count(page)\", \"page_count\")\n",
    "event_counts.show()"
   ]
  },
  {
   "cell_type": "code",
   "execution_count": 13,
   "metadata": {},
   "outputs": [
    {
     "name": "stdout",
     "output_type": "stream",
     "text": [
      "+------+-------------------------+---------+--------+-------------+---------+\n",
      "|userID|page                     |firstName|lastName|ts           |auth     |\n",
      "+------+-------------------------+---------+--------+-------------+---------+\n",
      "|18    |Cancel                   |Adriel   |Mendoza |1538943740000|Logged In|\n",
      "|18    |Cancellation Confirmation|Adriel   |Mendoza |1538943990000|Cancelled|\n",
      "|32    |Cancel                   |Diego    |Mckee   |1539033031000|Logged In|\n",
      "|32    |Cancellation Confirmation|Diego    |Mckee   |1539033046000|Cancelled|\n",
      "|125   |Cancel                   |Mason    |Hart    |1539318918000|Logged In|\n",
      "+------+-------------------------+---------+--------+-------------+---------+\n",
      "only showing top 5 rows\n",
      "\n"
     ]
    }
   ],
   "source": [
    "# Get more details about the cancel and cancel_confirmation events\n",
    "\n",
    "cancel_events = df.filter(psqf.col('page').isin(['Cancel','Cancellation Confirmation'])).select(['userID','page', 'firstName', 'lastName','ts', 'auth'])\n",
    "cancel_events.show(5, False)"
   ]
  },
  {
   "cell_type": "code",
   "execution_count": 14,
   "metadata": {},
   "outputs": [
    {
     "name": "stdout",
     "output_type": "stream",
     "text": [
      "+------+---------+---------+--------+-------------+---------+\n",
      "|userID|page     |firstName|lastName|ts           |auth     |\n",
      "+------+---------+---------+--------+-------------+---------+\n",
      "|54    |Downgrade|Alexi    |Warren  |1538354749000|Logged In|\n",
      "|95    |Downgrade|Faigy    |Howe    |1538373286000|Logged In|\n",
      "|95    |Downgrade|Faigy    |Howe    |1538392612000|Logged In|\n",
      "|131   |Downgrade|Kael     |Baker   |1538393618000|Logged In|\n",
      "|95    |Downgrade|Faigy    |Howe    |1538393664000|Logged In|\n",
      "+------+---------+---------+--------+-------------+---------+\n",
      "only showing top 5 rows\n",
      "\n"
     ]
    }
   ],
   "source": [
    "# Similar to calncel events, get the downgrade events\n",
    "\n",
    "downgrade_events = df.filter(psqf.col('page').isin(['Downgrade']))\n",
    "downgrade_events.select(['userID','page', 'firstName', 'lastName','ts', 'auth']).show(5, False)"
   ]
  },
  {
   "cell_type": "markdown",
   "metadata": {},
   "source": [
    "We can now look for the relationship between cancelled and downgrade events.\n",
    "We can look for how many of the customers who have downgraded have also cancelled thier subscriptions. Get the registration Id's."
   ]
  },
  {
   "cell_type": "code",
   "execution_count": 15,
   "metadata": {},
   "outputs": [
    {
     "name": "stdout",
     "output_type": "stream",
     "text": [
      "104\n"
     ]
    }
   ],
   "source": [
    "cancel_ids  = [vv['userID'] for vv in cancel_events.select('userID').collect()]\n",
    "print(len(cancel_ids))"
   ]
  },
  {
   "cell_type": "code",
   "execution_count": 16,
   "metadata": {},
   "outputs": [
    {
     "name": "stdout",
     "output_type": "stream",
     "text": [
      "2055 154\n"
     ]
    }
   ],
   "source": [
    "downgrade_reg_ids = [vv['userID'] for vv in downgrade_events.select('userID').collect()]\n",
    "print(len(downgrade_reg_ids), len(set(downgrade_reg_ids)))"
   ]
  },
  {
   "cell_type": "markdown",
   "metadata": {},
   "source": [
    "Now let's see which of those who downgraded also cancel thier subscription. by comparing these two sets."
   ]
  },
  {
   "cell_type": "code",
   "execution_count": 17,
   "metadata": {},
   "outputs": [
    {
     "name": "stdout",
     "output_type": "stream",
     "text": [
      "22.73% of customers who downgraded have also cancelled their subscriptions\n"
     ]
    }
   ],
   "source": [
    "# Get the customers who downgraded also cancel thier subscription\n",
    "cust_down_cancel = set(cancel_ids).intersection((set(downgrade_reg_ids)))\n",
    "print('{0:.2f}% of customers who downgraded have also cancelled their subscriptions'.format(\n",
    "    100*(len(cust_down_cancel))/len(set(downgrade_reg_ids))))"
   ]
  },
  {
   "cell_type": "code",
   "execution_count": 18,
   "metadata": {},
   "outputs": [
    {
     "name": "stdout",
     "output_type": "stream",
     "text": [
      "+------+---------+---------+-------------+\n",
      "|userID|     page|firstName|           ts|\n",
      "+------+---------+---------+-------------+\n",
      "|   129|Downgrade|    Davis|1538896047000|\n",
      "|   129|Downgrade|    Davis|1538911363000|\n",
      "|   129|Downgrade|    Davis|1538923089000|\n",
      "|   129|Downgrade|    Davis|1539010046000|\n",
      "|   129|Downgrade|    Davis|1539347207000|\n",
      "|   129|Downgrade|    Davis|1539362366000|\n",
      "|   129|Downgrade|    Davis|1539367200000|\n",
      "|   129|Downgrade|    Davis|1539736068000|\n",
      "|   129|   Cancel|    Davis|1539736069000|\n",
      "+------+---------+---------+-------------+\n",
      "\n"
     ]
    }
   ],
   "source": [
    "# Get userId, page and other detals.\n",
    "\n",
    "df.filter((psqf.col('userID') == list(cust_down_cancel)[0]) &\n",
    "                  (psqf.col('page').isin(['Downgrade','Cancel']))).select(['userID','page', 'firstName','ts']).show()"
   ]
  },
  {
   "cell_type": "markdown",
   "metadata": {},
   "source": [
    "We can convert the timestamp in to a more readable datetime format."
   ]
  },
  {
   "cell_type": "code",
   "execution_count": 19,
   "metadata": {},
   "outputs": [],
   "source": [
    "\n",
    "#Define lambda expression to convert timestamp to datetime.\n",
    "\n",
    "ts_udf = psqf.udf(lambda x: datetime.datetime.utcfromtimestamp(x/1000.0).strftime('%Y-%m-%d %H:%M:%S'))\n",
    "\n",
    "# Replace the new format.\n",
    "df = df.select('*').withColumn('ts_datetime', ts_udf(psqf.col('ts')))\n",
    "\n"
   ]
  },
  {
   "cell_type": "code",
   "execution_count": 20,
   "metadata": {},
   "outputs": [
    {
     "name": "stdout",
     "output_type": "stream",
     "text": [
      "+------+-------------------------+---------+-------------+-------------------+\n",
      "|userID|page                     |firstName|ts           |ts_datetime        |\n",
      "+------+-------------------------+---------+-------------+-------------------+\n",
      "|129   |Downgrade                |Davis    |1538896047000|2018-10-07 07:07:27|\n",
      "|129   |Downgrade                |Davis    |1538911363000|2018-10-07 11:22:43|\n",
      "|129   |Downgrade                |Davis    |1538923089000|2018-10-07 14:38:09|\n",
      "|129   |Downgrade                |Davis    |1539010046000|2018-10-08 14:47:26|\n",
      "|129   |Downgrade                |Davis    |1539347207000|2018-10-12 12:26:47|\n",
      "|129   |Downgrade                |Davis    |1539362366000|2018-10-12 16:39:26|\n",
      "|129   |Downgrade                |Davis    |1539367200000|2018-10-12 18:00:00|\n",
      "|129   |Downgrade                |Davis    |1539736068000|2018-10-17 00:27:48|\n",
      "|129   |Cancel                   |Davis    |1539736069000|2018-10-17 00:27:49|\n",
      "|129   |Cancellation Confirmation|Davis    |1539736161000|2018-10-17 00:29:21|\n",
      "+------+-------------------------+---------+-------------+-------------------+\n",
      "\n"
     ]
    }
   ],
   "source": [
    "# Get the same report with updated timestamp\n",
    "df.filter((psqf.col('userID') == list(cust_down_cancel)[0]) &\n",
    "                  (psqf.col('page').isin(['Downgrade','Cancel', 'Cancellation Confirmation']))).select(['userID','page', 'firstName','ts', 'ts_datetime']).show(20, False)"
   ]
  },
  {
   "cell_type": "markdown",
   "metadata": {},
   "source": [
    "## Define churn"
   ]
  },
  {
   "cell_type": "markdown",
   "metadata": {},
   "source": [
    "From the above data exploration, we can see that cancel is followed by a cancellation confirmation event. Both are indicators of a user is cancelling his subscription. we are going to use both these events for defining the churn"
   ]
  },
  {
   "cell_type": "code",
   "execution_count": 21,
   "metadata": {},
   "outputs": [],
   "source": [
    "# Define 1 as churned, 0 otherwise\n",
    "\n",
    "churn_event = df.groupby('userId').agg(psqf.collect_list('page').alias('pages'))\n",
    "churn_f = psqf.udf(lambda x: 1 if 'Cancel' in set(x) else 0)\n",
    "churn_event = churn_event.withColumn(\"label\", churn_f(churn_event.pages)).drop('pages')"
   ]
  },
  {
   "cell_type": "code",
   "execution_count": 22,
   "metadata": {},
   "outputs": [
    {
     "name": "stdout",
     "output_type": "stream",
     "text": [
      "+------+-----+\n",
      "|userId|label|\n",
      "+------+-----+\n",
      "|100010|    0|\n",
      "|200002|    0|\n",
      "|   125|    1|\n",
      "+------+-----+\n",
      "only showing top 3 rows\n",
      "\n"
     ]
    }
   ],
   "source": [
    "churn_event.show(3)"
   ]
  },
  {
   "cell_type": "markdown",
   "metadata": {},
   "source": [
    "### Analyse active users and churned users based on parameters\n",
    "\n",
    "Lets compare the churned users and the users who stayed back. We can analyse by comparing the action they performed during a specific period of time.\n",
    "\n"
   ]
  },
  {
   "cell_type": "code",
   "execution_count": 23,
   "metadata": {},
   "outputs": [
    {
     "name": "stdout",
     "output_type": "stream",
     "text": [
      "+------+--------------------+-----+\n",
      "|userId|                page|label|\n",
      "+------+--------------------+-----+\n",
      "|   125|              Cancel|    1|\n",
      "|   125|Cancellation Conf...|    1|\n",
      "|    51|              Cancel|    1|\n",
      "|    51|Cancellation Conf...|    1|\n",
      "|    54|              Cancel|    1|\n",
      "+------+--------------------+-----+\n",
      "only showing top 5 rows\n",
      "\n"
     ]
    }
   ],
   "source": [
    "labeled_df  = churn_event.join(df, 'userId')\n",
    "labeled_df.filter(psqf.col('page').isin([\"Cancel\", \"Cancellation Confirmation\"])).select('userId', 'page', 'label').show(5)"
   ]
  },
  {
   "cell_type": "code",
   "execution_count": 24,
   "metadata": {},
   "outputs": [
    {
     "name": "stdout",
     "output_type": "stream",
     "text": [
      "+-----+------+\n",
      "|label| count|\n",
      "+-----+------+\n",
      "|    0|241636|\n",
      "|    1| 44864|\n",
      "+-----+------+\n",
      "\n"
     ]
    }
   ],
   "source": [
    "churned_count = labeled_df.groupby(\"label\").count().show()"
   ]
  },
  {
   "cell_type": "code",
   "execution_count": 25,
   "metadata": {},
   "outputs": [
    {
     "name": "stdout",
     "output_type": "stream",
     "text": [
      "+-----+-----------+\n",
      "|label|SongsPlayed|\n",
      "+-----+-----------+\n",
      "|    0|     191714|\n",
      "|    1|      36394|\n",
      "+-----+-----------+\n",
      "\n"
     ]
    }
   ],
   "source": [
    "# Lets compare songs played by churned users vs active users\n",
    "songsplayed = labeled_df.where(psqf.col('song')!='null').groupby(\"label\").agg(psqf.count(psqf.col('song')).alias('SongsPlayed'))\n",
    "songsplayed.show(5)"
   ]
  },
  {
   "cell_type": "code",
   "execution_count": 26,
   "metadata": {},
   "outputs": [
    {
     "name": "stdout",
     "output_type": "stream",
     "text": [
      "+-----+---------------+\n",
      "|label|thumbsDownCount|\n",
      "+-----+---------------+\n",
      "|    0|           2050|\n",
      "|    1|            496|\n",
      "+-----+---------------+\n",
      "\n"
     ]
    }
   ],
   "source": [
    "# Compare number of dislikes for churned vs active users\n",
    "thumbsdown_count = labeled_df.where((psqf.col(\"page\")=='Thumbs Down')).groupby(\"label\").agg(psqf.count(psqf.col('page')).alias('thumbsDownCount'))\n",
    "thumbsdown_count.show(5)"
   ]
  },
  {
   "cell_type": "code",
   "execution_count": 27,
   "metadata": {},
   "outputs": [
    {
     "name": "stdout",
     "output_type": "stream",
     "text": [
      "+-----+-------------+\n",
      "|label|thumbsUpCount|\n",
      "+-----+-------------+\n",
      "|0    |10692        |\n",
      "|1    |1859         |\n",
      "+-----+-------------+\n",
      "\n"
     ]
    }
   ],
   "source": [
    "# Compare number of songs liked for churned vs active users\n",
    "thumbsup_count = labeled_df.where((psqf.col('page')=='Thumbs Up')).groupby(\"label\").agg(psqf.count(psqf.col('page')).alias('thumbsUpCount'))\n",
    "thumbsup_count.show(5, False)"
   ]
  },
  {
   "cell_type": "code",
   "execution_count": 28,
   "metadata": {},
   "outputs": [
    {
     "name": "stdout",
     "output_type": "stream",
     "text": [
      "+-----+--------------+\n",
      "|label|downgradeCount|\n",
      "+-----+--------------+\n",
      "|    0|          1718|\n",
      "|    1|           337|\n",
      "+-----+--------------+\n",
      "\n"
     ]
    }
   ],
   "source": [
    "# Compare number of downgrades for churned vs active users\n",
    "downgrade_count = labeled_df.where((psqf.col(\"page\")=='Downgrade')).groupby(\"label\").agg(psqf.count(psqf.col('page')).alias('downgradeCount'))\n",
    "downgrade_count.show(5)"
   ]
  },
  {
   "cell_type": "markdown",
   "metadata": {},
   "source": [
    "# Visualization of results"
   ]
  },
  {
   "cell_type": "code",
   "execution_count": 29,
   "metadata": {},
   "outputs": [
    {
     "data": {
      "image/png": "[encoded data removed]",
      "text/plain": [
       "<matplotlib.figure.Figure at 0x7f8d26c6db70>"
      ]
     },
     "metadata": {
      "needs_background": "light"
     },
     "output_type": "display_data"
    }
   ],
   "source": [
    "use_level_count = labeled_df.groupby('userId', 'level', 'label').count()\n",
    "use_level_count_pd  = use_level_count.select(\"userId\", \"level\", 'label').toPandas()\n",
    "use_level_count_pd[['level', 'label']].groupby(['level', 'label']).agg({'label':'count'}).unstack().plot(kind='bar');\n",
    "plt.title('churned-level customer count comparison')\n",
    "plt.ylabel('customer count');"
   ]
  },
  {
   "cell_type": "code",
   "execution_count": 23,
   "metadata": {},
   "outputs": [
    {
     "data": {
      "image/png": "[encoded data removed]",
      "text/plain": [
       "<matplotlib.figure.Figure at 0x7fc9c9cd7710>"
      ]
     },
     "metadata": {
      "needs_background": "light"
     },
     "output_type": "display_data"
    }
   ],
   "source": [
    "use_level_count_pd.label.value_counts().plot(kind='bar');\n",
    "plt.ylabel('User count')\n",
    "plt.xlabel('label')\n",
    "plt.title('Churned vs active customer count');"
   ]
  },
  {
   "cell_type": "code",
   "execution_count": null,
   "metadata": {},
   "outputs": [],
   "source": []
  },
  {
   "cell_type": "markdown",
   "metadata": {},
   "source": [
    "# Data Preprocessing\n",
    "\n",
    "Once you've familiarized yourself with the data, build out the features you find promising to train your model on. To work with the full dataset, you can follow the following steps.\n",
    "- Write a script to extract the necessary features from the smaller subset of data\n",
    "- Ensure that your script is scalable, using the best practices discussed in Lesson 3\n",
    "- Try your script on the full data set, debugging your script if necessary\n",
    "\n",
    "If you are working in the classroom workspace, you can just extract features based on the small subset of data contained here. Be sure to transfer over this work to the larger dataset when you work on your Spark cluster."
   ]
  },
  {
   "cell_type": "markdown",
   "metadata": {},
   "source": [
    "### Features used for defining churn"
   ]
  },
  {
   "cell_type": "markdown",
   "metadata": {},
   "source": [
    "    1. ts - We can get information about number of hours a customer played songs\n",
    "    2. page  - Number of thumsUp, downgrades, etc...\n",
    "    3. song - Number of songs a customer played"
   ]
  },
  {
   "cell_type": "code",
   "execution_count": 30,
   "metadata": {},
   "outputs": [],
   "source": [
    "# Number of distinct hour counts a user logged in the system\n",
    "def hour_count():\n",
    "    hours_udf = psqf.udf(lambda x: datetime.datetime.utcfromtimestamp(x/1000.0).strftime('%Y-%m-%d-%H'))\n",
    "    hours_df  = labeled_df.select('userId', 'ts').withColumn('hour', hours_udf(psqf.col('ts')))\n",
    "    hour_count_df = hours_df.where(psqf.col('userId')!='null').groupby('userId').agg((psqf.countDistinct(psqf.col('hour'))).alias(\"HourCount\")).orderBy('userId')\n",
    "    return hour_count_df\n"
   ]
  },
  {
   "cell_type": "code",
   "execution_count": 31,
   "metadata": {},
   "outputs": [
    {
     "name": "stdout",
     "output_type": "stream",
     "text": [
      "+------+---------+\n",
      "|userId|HourCount|\n",
      "+------+---------+\n",
      "|      |     1306|\n",
      "|    10|       51|\n",
      "|   100|      218|\n",
      "|100001|       14|\n",
      "|100002|       18|\n",
      "+------+---------+\n",
      "only showing top 5 rows\n",
      "\n"
     ]
    }
   ],
   "source": [
    "hour_count_df = hour_count()\n",
    "hour_count_df.show(5)"
   ]
  },
  {
   "cell_type": "code",
   "execution_count": 32,
   "metadata": {},
   "outputs": [],
   "source": [
    "# Get number of songs each user played\n",
    "def songs_count():\n",
    "    songsplayed = labeled_df.where(psqf.col('song')!='null').groupby(\"userId\").agg(psqf.count(psqf.col('song')).alias('SongsPlayed')).orderBy('userId')\n",
    "    return songsplayed\n",
    "    \n"
   ]
  },
  {
   "cell_type": "code",
   "execution_count": 33,
   "metadata": {},
   "outputs": [
    {
     "name": "stdout",
     "output_type": "stream",
     "text": [
      "+------+-----------+\n",
      "|userId|SongsPlayed|\n",
      "+------+-----------+\n",
      "|    10|        673|\n",
      "|   100|       2682|\n",
      "|100001|        133|\n",
      "|100002|        195|\n",
      "|100003|         51|\n",
      "+------+-----------+\n",
      "only showing top 5 rows\n",
      "\n"
     ]
    }
   ],
   "source": [
    "songsplayed = songs_count()\n",
    "songsplayed.show(5)"
   ]
  },
  {
   "cell_type": "code",
   "execution_count": 34,
   "metadata": {},
   "outputs": [],
   "source": [
    "labeled_df = labeled_df.where(psqf.col('userId')!='null') "
   ]
  },
  {
   "cell_type": "code",
   "execution_count": 35,
   "metadata": {},
   "outputs": [],
   "source": [
    "# Get Thumbs up and Tgumbs down count\n",
    "\n",
    "def get_counts():       \n",
    "    thumbsup_count = labeled_df.where((psqf.col('page')=='Thumbs Up') &(psqf.col('userId')!='null')).groupby(\"userId\").agg(psqf.count(psqf.col('page')).alias('thumbsUpCount')).orderBy('userId')\n",
    "    thumbsdown_count = labeled_df.where((psqf.col(\"page\")=='Thumbs Down')&(psqf.col('userId')!='null')).groupby(\"userId\").agg(psqf.count(psqf.col('page')).alias('thumbsDownCount')).orderBy('userId')\n",
    "    return thumbsup_count, thumbsdown_count"
   ]
  },
  {
   "cell_type": "code",
   "execution_count": 36,
   "metadata": {},
   "outputs": [
    {
     "name": "stdout",
     "output_type": "stream",
     "text": [
      "+------+-------------+\n",
      "|userId|thumbsUpCount|\n",
      "+------+-------------+\n",
      "|10    |37           |\n",
      "|100   |148          |\n",
      "|100001|8            |\n",
      "|100002|5            |\n",
      "|100003|3            |\n",
      "+------+-------------+\n",
      "only showing top 5 rows\n",
      "\n",
      "+------+---------------+\n",
      "|userId|thumbsDownCount|\n",
      "+------+---------------+\n",
      "|    10|              4|\n",
      "|   100|             27|\n",
      "|100001|              2|\n",
      "|100004|             11|\n",
      "|100005|              3|\n",
      "+------+---------------+\n",
      "only showing top 5 rows\n",
      "\n"
     ]
    }
   ],
   "source": [
    "thumbsup_count, thumbsdown_count = get_counts()\n",
    "thumbsup_count.show(5, False)\n",
    "thumbsdown_count.show(5)"
   ]
  },
  {
   "cell_type": "code",
   "execution_count": 37,
   "metadata": {},
   "outputs": [
    {
     "name": "stdout",
     "output_type": "stream",
     "text": [
      "+------+-----+-----------+---------+-------------+---------------+\n",
      "|userId|label|SongsPlayed|HourCount|thumbsUpCount|thumbsDownCount|\n",
      "+------+-----+-----------+---------+-------------+---------------+\n",
      "|100010|    0|        275|       26|           17|              5|\n",
      "|200002|    0|        387|       32|           21|              6|\n",
      "|   124|    0|       4079|      306|          171|             41|\n",
      "|    51|    1|       2111|      156|          100|             21|\n",
      "|     7|    0|        150|       18|            7|              1|\n",
      "+------+-----+-----------+---------+-------------+---------------+\n",
      "only showing top 5 rows\n",
      "\n"
     ]
    }
   ],
   "source": [
    "## Join all the features to define the churn event\n",
    "\n",
    "features_df = churn_event.join(songsplayed, \"userId\").\\\n",
    "join(hour_count_df, \"userId\").join(thumbsup_count, \"userId\").join(thumbsdown_count, \"userId\")\n",
    "features_df.show(5)"
   ]
  },
  {
   "cell_type": "code",
   "execution_count": 38,
   "metadata": {},
   "outputs": [
    {
     "name": "stdout",
     "output_type": "stream",
     "text": [
      "+-----+--------------------+\n",
      "|label|         rawFeatures|\n",
      "+-----+--------------------+\n",
      "|    0|[275.0,26.0,17.0,...|\n",
      "|    0|[387.0,32.0,21.0,...|\n",
      "|    0|[4079.0,306.0,171...|\n",
      "|    1|[2111.0,156.0,100...|\n",
      "+-----+--------------------+\n",
      "only showing top 4 rows\n",
      "\n"
     ]
    }
   ],
   "source": [
    "# Create an assembler from these selected features\n",
    "assembler = VectorAssembler(inputCols=[\"SongsPlayed\", \"HourCount\", \"thumbsUpCount\", \"thumbsDownCount\"], outputCol=\"rawFeatures\")\n",
    "features_df = assembler.transform(features_df)\n",
    "features_df.select('label', 'rawFeatures').show(4)"
   ]
  },
  {
   "cell_type": "code",
   "execution_count": 39,
   "metadata": {},
   "outputs": [],
   "source": [
    "# Define a scalar and fit the features.\n",
    "\n",
    "scaler = StandardScaler(inputCol=\"rawFeatures\", outputCol=\"features\", withStd=True)\n",
    "scalerModel = scaler.fit(features_df)\n",
    "features_df = scalerModel.transform(features_df)"
   ]
  },
  {
   "cell_type": "code",
   "execution_count": 40,
   "metadata": {},
   "outputs": [
    {
     "name": "stdout",
     "output_type": "stream",
     "text": [
      "+-----+--------------------+\n",
      "|label|            features|\n",
      "+-----+--------------------+\n",
      "|    0|[0.24639992057147...|\n",
      "|    0|[0.34675188822240...|\n",
      "+-----+--------------------+\n",
      "only showing top 2 rows\n",
      "\n"
     ]
    }
   ],
   "source": [
    "input_data = features_df.withColumn('label', psqf.col('label').cast(psqt.IntegerType())).select('label', 'features')\n",
    "input_data.show(2)"
   ]
  },
  {
   "cell_type": "markdown",
   "metadata": {},
   "source": [
    "# Implementation\n",
    "\n",
    "Split the full dataset into train, test, and validation sets. Test out several of the machine learning methods you learned. Evaluate the accuracy of the various models, tuning parameters as necessary. Determine your winning model based on test accuracy and report results on the validation set. Since the churned users are a fairly small subset, I suggest using F1 score as the metric to optimize."
   ]
  },
  {
   "cell_type": "markdown",
   "metadata": {},
   "source": [
    "##### split datest into train, validation and test sets\n",
    "    1. Train model using training dataset\n",
    "    2. Tune model using validation dataset\n",
    "    3. Test best model based on validation dataset on test dataset."
   ]
  },
  {
   "cell_type": "code",
   "execution_count": 44,
   "metadata": {},
   "outputs": [],
   "source": [
    "# Index labels, adding metadata to the label column.\n",
    "\n",
    "labelIndexer = StringIndexer(inputCol=\"label\", outputCol=\"indexedLabel\").fit(input_data)\n",
    "\n",
    "# Automatically identify categorical features, and index them.\n",
    "featureIndexer =\\\n",
    "    VectorIndexer(inputCol=\"features\", outputCol=\"indexedFeatures\", maxCategories=4).fit(input_data)"
   ]
  },
  {
   "cell_type": "markdown",
   "metadata": {},
   "source": [
    "#### Split the data into training and test sets"
   ]
  },
  {
   "cell_type": "code",
   "execution_count": 45,
   "metadata": {},
   "outputs": [],
   "source": [
    "# Split the data into training and test sets \n",
    "(trainingData, tempData) = input_data.randomSplit([0.6, 0.4])\n",
    "(validationData, testData) = tempData.randomSplit([0.5, 0.5])"
   ]
  },
  {
   "cell_type": "markdown",
   "metadata": {},
   "source": [
    "### Random Forest Classifier"
   ]
  },
  {
   "cell_type": "code",
   "execution_count": 46,
   "metadata": {},
   "outputs": [],
   "source": [
    "def get_pipeline():\n",
    "    # Train a RandomForest model.\n",
    "    rf = RandomForestClassifier(labelCol=\"indexedLabel\", featuresCol=\"indexedFeatures\", numTrees=10)\n",
    "    # Convert indexed labels back to original labels.\n",
    "    labelConverter = IndexToString(inputCol=\"prediction\", outputCol=\"predictedLabel\",\n",
    "                                   labels=labelIndexer.labels)\n",
    "    # Chain indexers and forest in a Pipeline\n",
    "    pipeline = Pipeline(stages=[labelIndexer, featureIndexer, rf, labelConverter])\n",
    "    return pipeline, labelConverter"
   ]
  },
  {
   "cell_type": "code",
   "execution_count": 47,
   "metadata": {},
   "outputs": [],
   "source": [
    "# Train model. \n",
    "pipeline, labelConverter = get_pipeline()\n",
    "model = pipeline.fit(trainingData)"
   ]
  },
  {
   "cell_type": "code",
   "execution_count": 48,
   "metadata": {},
   "outputs": [
    {
     "name": "stdout",
     "output_type": "stream",
     "text": [
      "+--------------+-----+--------------------+\n",
      "|predictedLabel|label|            features|\n",
      "+--------------+-----+--------------------+\n",
      "|             0|    0|[1.72748744313385...|\n",
      "|             0|    0|[1.00799967506513...|\n",
      "|             1|    1|[0.33779189111071...|\n",
      "|             0|    1|[1.30547157917325...|\n",
      "|             0|    0|[3.23993495558715...|\n",
      "+--------------+-----+--------------------+\n",
      "only showing top 5 rows\n",
      "\n"
     ]
    }
   ],
   "source": [
    "# Make predictions.\n",
    "predictions = model.transform(validationData)\n",
    "predictions.select(\"predictedLabel\", \"label\", \"features\").show(5)\n"
   ]
  },
  {
   "cell_type": "code",
   "execution_count": 49,
   "metadata": {},
   "outputs": [
    {
     "name": "stdout",
     "output_type": "stream",
     "text": [
      "Validation Error = 0.263158\n",
      "RandomForestClassificationModel (uid=RandomForestClassifier_27b98c79706e) with 10 trees\n"
     ]
    }
   ],
   "source": [
    "# Evaluate the model\n",
    "evaluator = MulticlassClassificationEvaluator(\n",
    "    labelCol=\"indexedLabel\", predictionCol=\"prediction\", metricName=\"accuracy\")\n",
    "accuracy = evaluator.evaluate(predictions)\n",
    "print(\"Validation Error = %g\" % (1.0 - accuracy))\n",
    "\n",
    "rfModel = model.stages[2]\n",
    "print(rfModel)"
   ]
  },
  {
   "cell_type": "code",
   "execution_count": 50,
   "metadata": {},
   "outputs": [
    {
     "name": "stdout",
     "output_type": "stream",
     "text": [
      "F1 score = 0.66408\n"
     ]
    }
   ],
   "source": [
    "# Get F1 score and evaluate\n",
    "\n",
    "f1_score_evaluator = MulticlassClassificationEvaluator(labelCol=\"indexedLabel\", predictionCol=\"prediction\",metricName='f1')\n",
    "f1_score = f1_score_evaluator.evaluate(predictions)\n",
    "print(\"F1 score = %g\" % (f1_score))"
   ]
  },
  {
   "cell_type": "markdown",
   "metadata": {},
   "source": [
    "\n",
    "### Logistic Regression"
   ]
  },
  {
   "cell_type": "code",
   "execution_count": 57,
   "metadata": {},
   "outputs": [],
   "source": [
    "# initialize classifier\n",
    "def logistic_regression():    \n",
    "    lr = LogisticRegression(maxIter=10)\n",
    "\n",
    "    f1_evaluator = MulticlassClassificationEvaluator(metricName='f1')\n",
    "\n",
    "    paramGrid = ParamGridBuilder() \\\n",
    "        .build()\n",
    "\n",
    "    crossval_lr = CrossValidator(estimator=lr,\n",
    "                              evaluator=f1_evaluator, \n",
    "                              estimatorParamMaps=paramGrid,\n",
    "                              numFolds=3)\n",
    "    return crossval_lr"
   ]
  },
  {
   "cell_type": "code",
   "execution_count": 58,
   "metadata": {},
   "outputs": [
    {
     "name": "stdout",
     "output_type": "stream",
     "text": [
      "The training process took 694.3865914344788 seconds\n"
     ]
    }
   ],
   "source": [
    "crossval_lr = logistic_regression()\n",
    "\n",
    "start = time()\n",
    "cvModel_lr = crossval_lr.fit(trainingData)\n",
    "end = time()\n",
    "cvModel_lr.avgMetrics\n",
    "print('The training process took {} seconds'.format(end - start))"
   ]
  },
  {
   "cell_type": "code",
   "execution_count": 59,
   "metadata": {},
   "outputs": [],
   "source": [
    "results_lr = cvModel_lr.transform(validationData)"
   ]
  },
  {
   "cell_type": "code",
   "execution_count": 60,
   "metadata": {},
   "outputs": [
    {
     "name": "stdout",
     "output_type": "stream",
     "text": [
      "Logistic Regression Metrics:\n",
      "Accuracy: 0.6842105263157895\n",
      "F-1 Score:0.6263157894736844\n"
     ]
    }
   ],
   "source": [
    "evaluator = MulticlassClassificationEvaluator(predictionCol=\"prediction\")\n",
    "print('Logistic Regression Metrics:')\n",
    "print('Accuracy: {}'.format(evaluator.evaluate(results_lr, {evaluator.metricName: \"accuracy\"})))\n",
    "print('F-1 Score:{}'.format(evaluator.evaluate(results_lr, {evaluator.metricName: \"f1\"})))"
   ]
  },
  {
   "cell_type": "markdown",
   "metadata": {},
   "source": [
    "### Support Vector Machine"
   ]
  },
  {
   "cell_type": "code",
   "execution_count": 61,
   "metadata": {},
   "outputs": [],
   "source": [
    "# Support Vector machine model\n",
    "\n",
    "def svm():\n",
    "\n",
    "    svm = LinearSVC(maxIter=10)\n",
    "\n",
    "    f1_evaluator = MulticlassClassificationEvaluator(metricName='f1')\n",
    "\n",
    "    paramGrid = ParamGridBuilder() \\\n",
    "        .build()\n",
    "\n",
    "    crossval_svm = CrossValidator(estimator=svm,\n",
    "                              estimatorParamMaps=paramGrid,\n",
    "                              evaluator=f1_evaluator,\n",
    "                              numFolds=3)\n",
    "    return crossval_svm"
   ]
  },
  {
   "cell_type": "code",
   "execution_count": 62,
   "metadata": {},
   "outputs": [
    {
     "name": "stdout",
     "output_type": "stream",
     "text": [
      "The training process took 734.9559786319733 seconds\n"
     ]
    }
   ],
   "source": [
    "crossval_svm = svm()\n",
    "\n",
    "start = time()\n",
    "cvModel_svm = crossval_svm.fit(trainingData)\n",
    "end = time()\n",
    "cvModel_svm.avgMetrics\n",
    "print('The training process took {} seconds'.format(end - start))"
   ]
  },
  {
   "cell_type": "code",
   "execution_count": 63,
   "metadata": {},
   "outputs": [],
   "source": [
    "results_svm = cvModel_svm.transform(validationData)"
   ]
  },
  {
   "cell_type": "code",
   "execution_count": 64,
   "metadata": {},
   "outputs": [
    {
     "name": "stdout",
     "output_type": "stream",
     "text": [
      "SVM Metrics:\n",
      "Accuracy: 0.6842105263157895\n",
      "F-1 Score:0.5559210526315791\n"
     ]
    }
   ],
   "source": [
    "evaluator = MulticlassClassificationEvaluator(predictionCol=\"prediction\")\n",
    "print('SVM Metrics:')\n",
    "print('Accuracy: {}'.format(evaluator.evaluate(results_svm, {evaluator.metricName: \"accuracy\"})))\n",
    "print('F-1 Score:{}'.format(evaluator.evaluate(results_svm, {evaluator.metricName: \"f1\"})))"
   ]
  },
  {
   "cell_type": "markdown",
   "metadata": {},
   "source": [
    "#### Model summary\n",
    "\n",
    "The logistic regression model has a accuracy of: 0.684 and F-1 Score:0.626\n",
    "\n",
    "The Support vector machine model has a accuracy of: 0.684, and F1 score of: 0.555\n",
    "\n",
    "The Random forest model has a accuracy of: 0.776, and F1 score of: 0.66408\n",
    "\n",
    "we will prefer the model that perform the best. Therefore, we choose Random Forest Classifier model as our final model and conduct a grid search to fine tune our model this time.\n"
   ]
  },
  {
   "cell_type": "markdown",
   "metadata": {},
   "source": [
    "# Fine tuning  / Refinement"
   ]
  },
  {
   "cell_type": "markdown",
   "metadata": {},
   "source": [
    "We use grid search to fine tune our Random Foresr Classifier. We mainly tuned two parameters, maxDepth and numTrees."
   ]
  },
  {
   "cell_type": "code",
   "execution_count": 66,
   "metadata": {},
   "outputs": [],
   "source": [
    "def new_model():\n",
    "    rfc = RandomForestClassifier(labelCol=\"indexedLabel\", featuresCol=\"indexedFeatures\")\n",
    "\n",
    "    # Chain indexers and forest in a Pipeline\n",
    "\n",
    "    pipeline = Pipeline(stages=[labelIndexer, featureIndexer, rfc, labelConverter])\n",
    "    param_grid = ParamGridBuilder().addGrid(rfc.numTrees, [10, 15]).addGrid(rfc.maxDepth, [2, 5]).build()\n",
    "    cv = CrossValidator(estimator=pipeline, \n",
    "                        estimatorParamMaps = param_grid, \n",
    "                        evaluator = MulticlassClassificationEvaluator(metricName='f1'),\n",
    "                        numFolds=3)    \n",
    "    return cv"
   ]
  },
  {
   "cell_type": "code",
   "execution_count": 67,
   "metadata": {},
   "outputs": [],
   "source": [
    "cv = new_model()\n",
    "best_model = cv.fit(trainingData)"
   ]
  },
  {
   "cell_type": "code",
   "execution_count": 68,
   "metadata": {},
   "outputs": [],
   "source": [
    "# Method to evaluate our model\n",
    "\n",
    "def evaluation(model, data):\n",
    "    \"\"\"\n",
    "    Make prediction and evaluate model.\n",
    "    Parameters\n",
    "    -----------\n",
    "        model: model object\n",
    "    returns\n",
    "    -------\n",
    "        None\n",
    "    \"\"\"\n",
    "    predictions = model.transform(data)\n",
    "    \n",
    "    predictions.select(\"predictedLabel\", \"label\", \"features\").show(5)\n",
    "\n",
    "    # Select (prediction, true label) and compute test error\n",
    "    evaluator = MulticlassClassificationEvaluator(\n",
    "        labelCol=\"indexedLabel\", predictionCol=\"prediction\", metricName=\"accuracy\")\n",
    "    accuracy = evaluator.evaluate(predictions)\n",
    "    print(\"Error = %g\" % (1.0 - accuracy))\n",
    "    f1_score_evaluator = MulticlassClassificationEvaluator(labelCol=\"indexedLabel\", predictionCol=\"prediction\",metricName='f1')\n",
    "    f1_score = f1_score_evaluator.evaluate(predictions)\n",
    "    print(\"F1 score = %g\" % (f1_score))"
   ]
  },
  {
   "cell_type": "code",
   "execution_count": 69,
   "metadata": {},
   "outputs": [
    {
     "name": "stdout",
     "output_type": "stream",
     "text": [
      "+--------------+-----+--------------------+\n",
      "|predictedLabel|label|            features|\n",
      "+--------------+-----+--------------------+\n",
      "|             0|    0|[1.72748744313385...|\n",
      "|             0|    0|[1.00799967506513...|\n",
      "|             1|    1|[0.33779189111071...|\n",
      "|             0|    1|[1.30547157917325...|\n",
      "|             0|    0|[3.23993495558715...|\n",
      "+--------------+-----+--------------------+\n",
      "only showing top 5 rows\n",
      "\n",
      "Error = 0.315789\n",
      "F1 score = 0.596895\n"
     ]
    }
   ],
   "source": [
    "# On validation set \n",
    "evaluation(model=best_model, data=validationData)"
   ]
  },
  {
   "cell_type": "code",
   "execution_count": 70,
   "metadata": {},
   "outputs": [
    {
     "name": "stdout",
     "output_type": "stream",
     "text": [
      "+--------------+-----+--------------------+\n",
      "|predictedLabel|label|            features|\n",
      "+--------------+-----+--------------------+\n",
      "|             0|    0|[0.24639992057147...|\n",
      "|             0|    1|[1.89145539027778...|\n",
      "|             0|    1|[0.23027192577043...|\n",
      "|             0|    0|[0.19263993790133...|\n",
      "|             1|    0|[0.21235193154705...|\n",
      "+--------------+-----+--------------------+\n",
      "only showing top 5 rows\n",
      "\n",
      "Error = 0.272727\n",
      "F1 score = 0.679888\n"
     ]
    }
   ],
   "source": [
    "# On Test data\n",
    "evaluation(model=best_model, data=testData)"
   ]
  },
  {
   "cell_type": "markdown",
   "metadata": {},
   "source": [
    "# Results\n",
    "\n",
    "We have analysed the sparkify dataset and come up with new features to predict churn. We then created a machine learning model and tuned it to improve its performance. We achieved an accuracy score of 77% and F1 score of 0.679888 on the test dataset.\n",
    "\n",
    "We use grid search to fine tune our Random Foresr Classifier. We mainly tuned two parameters, maxDepth and numTrees. "
   ]
  },
  {
   "cell_type": "markdown",
   "metadata": {},
   "source": [
    "# Conclusion\n",
    "\n",
    "In this project, we have implemented a model trying to predict customer churn. We have done all the pre processing required for the data like removed rows with no userId, converted timestamp to a human readable format, converted gender to binary numeric column. \n",
    "\n",
    "We have selected different features to define our churn. We selected 3 models: logistic regression,  SVM, and RF to compare and selected Random Forest as the final model implemented for predicting final result. \n",
    "\n",
    "We used cross validation and grid search to fine tune our model. We achieved about 77% accuracy, and 0.679888 F1 score."
   ]
  },
  {
   "cell_type": "markdown",
   "metadata": {},
   "source": [
    "# Future Improvements\n",
    "\n",
    "The model peformance can be further improved by creating additional features and includiding some of the features that we have left out for this analysis. The model should be tested out against the bigger data set for more accuracy. We can also try to test with multiple models and with multiple model parameters and picks the best fitted algorithm for the model. For our analysis we picked up RFandom Forest Classifier as that seems the best approach for thios data set.\n"
   ]
  },
  {
   "cell_type": "code",
   "execution_count": null,
   "metadata": {},
   "outputs": [],
   "source": []
  }
 ],
 "metadata": {
  "kernelspec": {
   "display_name": "Python 3",
   "language": "python",
   "name": "python3"
  },
  "language_info": {
   "codemirror_mode": {
    "name": "ipython",
    "version": 3
   },
   "file_extension": ".py",
   "mimetype": "text/x-python",
   "name": "python",
   "nbconvert_exporter": "python",
   "pygments_lexer": "ipython3",
   "version": "3.6.3"
  }
 },
 "nbformat": 4,
 "nbformat_minor": 2
}
